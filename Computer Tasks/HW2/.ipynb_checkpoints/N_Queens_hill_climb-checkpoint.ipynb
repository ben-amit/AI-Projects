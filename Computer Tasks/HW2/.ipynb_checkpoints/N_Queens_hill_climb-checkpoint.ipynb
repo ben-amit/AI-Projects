{
 "cells": [
  {
   "cell_type": "code",
   "execution_count": 1,
   "id": "initial_id",
   "metadata": {
    "ExecuteTime": {
     "end_time": "2025-03-11T14:22:28.073854Z",
     "start_time": "2025-03-11T14:22:28.043815Z"
    }
   },
   "outputs": [],
   "source": [
    "import random\n",
    "\n",
    "class NQueens:\n",
    "    def __init__(self, N):\n",
    "        self.N = N\n",
    "        self.board = [random.randint(0, N-1) for _ in range(N)]  # Random initial state\n",
    "    \n",
    "    def print_board(self):\n",
    "        for row in range(self.N):\n",
    "            line = \"\".join(\"Q \" if self.board[col] == row else \"X \" for col in range(self.N))\n",
    "            print(line)\n",
    "        print()\n",
    "    \n",
    "    def count_attacks(self):\n",
    "        attacks = 0\n",
    "        for i in range(self.N):\n",
    "            for j in range(i+1, self.N):\n",
    "                if self.board[i] == self.board[j] or abs(self.board[i] - self.board[j]) == abs(i - j):  # Queens are on same row or diagonal\n",
    "                    attacks += 1\n",
    "        return attacks\n",
    "    \n",
    "    def get_neighbors(self):\n",
    "        neighbors = []\n",
    "        for col in range(self.N):\n",
    "            for row in range(self.N):\n",
    "                if row != self.board[col]:  # Check valid neighbor\n",
    "                    new_board = self.board[:]\n",
    "                    new_board[col] = row\n",
    "                    neighbors.append(new_board)  # Store shallow copy of neighbor\n",
    "        return neighbors\n",
    "    \n",
    "    def hill_climb_minimize(self, visualization=False, max_restarts=100):\n",
    "        for restart in range(max_restarts):\n",
    "            self.board = [random.randint(0, self.N-1) for _ in range(self.N)]  # Random start\n",
    "            if visualization:\n",
    "                print(f\"Restart {restart + 1}: Initial board {self.board}, Attacks: {self.count_attacks()}\") \n",
    "                self.print_board()\n",
    "            \n",
    "            while True:\n",
    "                current_attacks = self.count_attacks()\n",
    "                neighbors = self.get_neighbors()\n",
    "                \n",
    "                # Select the best neighbor\n",
    "                best_neighbor = min(neighbors, key=lambda b: NQueens(self.N)._set_board(b).count_attacks())\n",
    "                best_attacks = NQueens(self.N)._set_board(best_neighbor).count_attacks()\n",
    "                \n",
    "                # If no improvement, restart\n",
    "                if best_attacks >= current_attacks:\n",
    "                    if visualization: print(\"No better neighbor found, restarting...\")\n",
    "                    break\n",
    "                \n",
    "                self.board = best_neighbor  # Move to the best neighbor\n",
    "                if visualization:\n",
    "                    print(f\"Moved to new board: {self.board}, Attacks: {best_attacks}\")\n",
    "                    self.print_board()\n",
    "                    \n",
    "                if self.count_attacks() == 0:  # Found a solution\n",
    "                    print(\"Solution found!\")\n",
    "                    #self.print_board()\n",
    "                    return self.board\n",
    "        \n",
    "        #print(\"No solution found after max restarts.\")\n",
    "        return None  # No solution found\n",
    "    \n",
    "    def _set_board(self, board):\n",
    "        self.board = board\n",
    "        return self"
   ]
  },
  {
   "cell_type": "code",
   "execution_count": 3,
   "id": "f73ff108cc4b078b",
   "metadata": {
    "ExecuteTime": {
     "end_time": "2025-03-11T14:23:42.927103Z",
     "start_time": "2025-03-11T14:23:42.872764Z"
    }
   },
   "outputs": [
    {
     "name": "stdout",
     "output_type": "stream",
     "text": [
      "Running Hill Climbing for N-Queens...\n",
      "Solution found!\n",
      "Final solution:\n",
      "X X X X X X X X Q X X X X \n",
      "X X X X Q X X X X X X X X \n",
      "X Q X X X X X X X X X X X \n",
      "X X X X X X X X X X X X Q \n",
      "X X X X X X X X X Q X X X \n",
      "X X X X X Q X X X X X X X \n",
      "X X X Q X X X X X X X X X \n",
      "Q X X X X X X X X X X X X \n",
      "X X X X X X X X X X Q X X \n",
      "X X X X X X X Q X X X X X \n",
      "X X X X X X X X X X X Q X \n",
      "X X X X X X Q X X X X X X \n",
      "X X Q X X X X X X X X X X \n",
      "\n"
     ]
    }
   ],
   "source": [
    "# Parameters  \n",
    "N = 8\n",
    "visualization = True\n",
    "\n",
    "nqueens = NQueens(N)\n",
    "\n",
    "print(\"Running Hill Climbing for N-Queens...\")\n",
    "solution = nqueens.hill_climb_minimize(visualization)\n",
    "\n",
    "if solution:\n",
    "    print(\"Final solution:\")\n",
    "    nqueens.print_board()\n",
    "else:\n",
    "    print(\"No solution found after max restarts.\")"
   ]
  },
  {
   "cell_type": "code",
   "execution_count": 55,
   "id": "42eb9f585c53470d",
   "metadata": {
    "ExecuteTime": {
     "end_time": "2025-03-11T13:59:49.975745Z",
     "start_time": "2025-03-11T13:59:49.971717Z"
    }
   },
   "outputs": [],
   "source": []
  },
  {
   "cell_type": "code",
   "execution_count": null,
   "id": "404766e9ec08bd00",
   "metadata": {},
   "outputs": [],
   "source": []
  }
 ],
 "metadata": {
  "kernelspec": {
   "display_name": "Python 3 (ipykernel)",
   "language": "python",
   "name": "python3"
  },
  "language_info": {
   "codemirror_mode": {
    "name": "ipython",
    "version": 3
   },
   "file_extension": ".py",
   "mimetype": "text/x-python",
   "name": "python",
   "nbconvert_exporter": "python",
   "pygments_lexer": "ipython3",
   "version": "3.12.2"
  }
 },
 "nbformat": 4,
 "nbformat_minor": 5
}
