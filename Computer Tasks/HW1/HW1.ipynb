{
 "cells": [
  {
   "cell_type": "markdown",
   "id": "a5a58317e3046e48",
   "metadata": {},
   "source": [
    "# *Assignment 1. Systematic state space search*\n",
    "\n",
    "## *Submitted by Amit Ben Zaken*"
   ]
  },
  {
   "cell_type": "markdown",
   "id": "3bc185cccf465806",
   "metadata": {},
   "source": [
    "Firstly, we'll implement load_maze to load the inputs from file, and include other helper function for our algorithms."
   ]
  },
  {
   "cell_type": "code",
   "execution_count": 1,
   "id": "initial_id",
   "metadata": {
    "ExecuteTime": {
     "end_time": "2025-03-02T19:13:10.799086Z",
     "start_time": "2025-03-02T19:13:10.786234Z"
    }
   },
   "outputs": [],
   "source": [
    "import random\n",
    "import time\n",
    "from IPython.display import clear_output\n",
    "from collections import deque\n",
    "from queue import PriorityQueue\n",
    "import os\n",
    "\n",
    "\n",
    "def load_maze(filename):\n",
    "    with open(filename, \"r\") as file:\n",
    "        lines = [line.rstrip() for line in file.readlines()]\n",
    "    \n",
    "    maze = []\n",
    "    start = None\n",
    "    end = None\n",
    "\n",
    "    for i, line in enumerate(lines):\n",
    "        if line.startswith(\"start\"):\n",
    "            _, coords = line.split(\" \", 1)\n",
    "            start = tuple(map(int, coords.split(\",\")))\n",
    "        elif line.lower().startswith(\"end\"):\n",
    "            _, coords = line.split(\" \", 1)\n",
    "            end = tuple(map(int, coords.split(\",\")))\n",
    "        else:\n",
    "            row = []\n",
    "            for char in line:\n",
    "                if char == \" \":\n",
    "                    row.append(-1)\n",
    "                elif char == \"X\":\n",
    "                    row.append(0)\n",
    "                else:\n",
    "                    raise ValueError(\"Invalid character in maze\")\n",
    "            maze.append(row)\n",
    "    \n",
    "    start = (start[1], start[0])\n",
    "    end = (end[1], end[0])\n",
    "    return maze, start, end\n",
    "\n",
    "# Function to print the maze with explored nodes and final path\n",
    "def print_maze_with_path(maze, explored, path, start, end):\n",
    "    display = [[char for char in row] for row in convert_maze_to_chars(maze)]\n",
    "\n",
    "    for x, y in explored:\n",
    "        if (x, y) not in (start, end):\n",
    "            display[x][y] = \"#\"\n",
    "\n",
    "    for x, y in path:\n",
    "        if (x, y) not in (start, end):\n",
    "            display[x][y] = \"o\"\n",
    "\n",
    "    display[start[0]][start[1]] = \"S\"\n",
    "    display[end[0]][end[1]] = \"E\"\n",
    "\n",
    "    print(\"\\n\".join(\"\".join(row) for row in display))\n",
    "    print(\"--------------\")\n",
    "\n",
    "# Convert maze from numbers to characters\n",
    "def convert_maze_to_chars(maze):\n",
    "    char_maze = []\n",
    "    for row in maze:\n",
    "        char_maze.append([\"X\" if cell == 0 else \" \" for cell in row])\n",
    "    return char_maze\n",
    "\n",
    "# Function to reconstruct the path\n",
    "def reconstruct_path(prev, goal):\n",
    "    x = goal\n",
    "    path = []\n",
    "    while x in prev:\n",
    "        path.append(x)\n",
    "        x = prev[x]\n",
    "    path.append(x)\n",
    "    return path[::-1]\n",
    "\n",
    "# Get valid neighbors\n",
    "def get_neighbors(maze, position):\n",
    "    x, y = position\n",
    "    neighbors = []\n",
    "    directions = [(0, 1), (1, 0), (0, -1), (-1, 0)]\n",
    "\n",
    "    for dx, dy in directions:\n",
    "        nx, ny = x + dx, y + dy\n",
    "        if 0 <= nx < len(maze) and 0 <= ny < len(maze[0]) and maze[nx][ny] != 0:\n",
    "            neighbors.append((nx, ny))\n",
    "\n",
    "    return neighbors\n",
    "\n",
    "# We will use Manhattan distance heuristic \n",
    "def h(y, end):\n",
    "    return abs(y[0] - end[0]) + abs(y[1] - end[1]) "
   ]
  },
  {
   "cell_type": "markdown",
   "id": "6382144547073432",
   "metadata": {},
   "source": [
    "1. Random search"
   ]
  },
  {
   "cell_type": "code",
   "execution_count": 2,
   "id": "4b5cd640b21c777a",
   "metadata": {
    "ExecuteTime": {
     "end_time": "2025-03-02T19:13:12.467480Z",
     "start_time": "2025-03-02T19:13:12.461702Z"
    }
   },
   "outputs": [],
   "source": [
    "def random_search(maze, start, end):\n",
    "    \n",
    "    if maze[start[0]][start[1]] == 0 or maze[end[0]][end[1]] == 0:\n",
    "        raise ValueError(\"Start and end positions must be valid\")\n",
    "    \n",
    "    open_set = {start}\n",
    "    closed_set = set()\n",
    "    prev = {}\n",
    "\n",
    "    while open_set:\n",
    "        x = random.choice(list(open_set))\n",
    "\n",
    "        if x == end:\n",
    "            path = reconstruct_path(prev, x)\n",
    "            print_maze_with_path(maze, closed_set, path, start, end)\n",
    "            print(\"S Start\\nE End\\n# Opened node\\no Path\\nX Wall\\nspace Fresh node\\n--------------\")\n",
    "            print(f\"Nodes expanded: {len(closed_set)}\")\n",
    "            print(f\"Path length: {len(path) - 1}\")\n",
    "            return path\n",
    "\n",
    "        for y in get_neighbors(maze, x):\n",
    "            if y not in open_set and y not in closed_set:\n",
    "                open_set.add(y)\n",
    "                prev[y] = x\n",
    "\n",
    "        open_set.remove(x)\n",
    "        closed_set.add(x)\n",
    "\n",
    "        '''\n",
    "        #add for animation\n",
    "        print_maze_with_path(maze, closed_set, [], start, end)\n",
    "        time.sleep(0.3)\n",
    "        clear_output(wait=True)\n",
    "        os.system(\"cls\")\n",
    "        '''\n",
    "        \n",
    "    print(\"No path found.\")\n",
    "    return None"
   ]
  },
  {
   "cell_type": "markdown",
   "id": "c24b06008dff83b4",
   "metadata": {},
   "source": [
    "2. DFS"
   ]
  },
  {
   "cell_type": "code",
   "execution_count": 3,
   "id": "ebdc9eb767fe1fe",
   "metadata": {
    "ExecuteTime": {
     "end_time": "2025-03-02T19:13:13.014412Z",
     "start_time": "2025-03-02T19:13:13.006896Z"
    }
   },
   "outputs": [],
   "source": [
    "def dfs(maze, start, end):\n",
    "    open_stack = [start]\n",
    "    closed_set = set()\n",
    "    prev = {}\n",
    "\n",
    "    while open_stack:\n",
    "        x = open_stack.pop()\n",
    "\n",
    "        if x == end:\n",
    "            path = reconstruct_path(prev, x)\n",
    "            print_maze_with_path(maze, closed_set, path, start, end)\n",
    "            print(\"S Start\\nE End\\n# Opened node\\no Path\\nX Wall\\nspace Fresh node\\n--------------\")\n",
    "            print(f\"Nodes expanded: {len(closed_set)}\")\n",
    "            print(f\"Path length: {len(path) - 1}\")\n",
    "            return path\n",
    "\n",
    "        for y in get_neighbors(maze, x):\n",
    "            if y not in closed_set and y not in open_stack:\n",
    "                open_stack.append(y)\n",
    "                prev[y] = x\n",
    "\n",
    "        closed_set.add(x)\n",
    "\n",
    "        '''\n",
    "        #add for animation\n",
    "        print_maze_with_path(maze, closed_set, [], start, end)\n",
    "        time.sleep(0.3)\n",
    "        clear_output(wait=True)\n",
    "        os.system(\"cls\")\n",
    "        '''\n",
    "\n",
    "    print(\"No path found.\")\n",
    "    return None"
   ]
  },
  {
   "cell_type": "markdown",
   "id": "a7129b7d0bdc6ba4",
   "metadata": {},
   "source": [
    "3. BFS"
   ]
  },
  {
   "cell_type": "code",
   "execution_count": 4,
   "id": "f382c6c884993c06",
   "metadata": {
    "ExecuteTime": {
     "end_time": "2025-03-02T19:13:13.531081Z",
     "start_time": "2025-03-02T19:13:13.526185Z"
    }
   },
   "outputs": [],
   "source": [
    "def bfs(maze, start, end):\n",
    "    open_queue = deque([start])\n",
    "    closed_set = set()\n",
    "    prev = {}\n",
    "\n",
    "    while open_queue:\n",
    "        x = open_queue.popleft()\n",
    "\n",
    "        if x == end:\n",
    "            path = reconstruct_path(prev, x)\n",
    "            print_maze_with_path(maze, closed_set, path, start, end)\n",
    "            print(\"S Start\\nE End\\n# Opened node\\no Path\\nX Wall\\nspace Fresh node\\n--------------\")\n",
    "            print(f\"Nodes expanded: {len(closed_set)}\")\n",
    "            print(f\"Path length: {len(path) - 1}\")\n",
    "            return path\n",
    "\n",
    "\n",
    "        for y in get_neighbors(maze, x):\n",
    "            if y not in closed_set and y not in open_queue:\n",
    "                open_queue.append(y)\n",
    "                prev[y] = x\n",
    "        \n",
    "        '''\n",
    "        #add for animation\n",
    "        print_maze_with_path(maze, closed_set, [], start, end)\n",
    "        time.sleep(0.3)\n",
    "        clear_output(wait=True)\n",
    "        os.system(\"cls\")\n",
    "        '''\n",
    "        \n",
    "        closed_set.add(x)\n",
    "\n",
    "    print(\"No path found.\")\n",
    "    return None"
   ]
  },
  {
   "cell_type": "markdown",
   "id": "162f1561651f8925",
   "metadata": {},
   "source": [
    "4. Greedy Search"
   ]
  },
  {
   "cell_type": "code",
   "execution_count": 5,
   "id": "f2f7df6565221d4a",
   "metadata": {
    "ExecuteTime": {
     "end_time": "2025-03-02T19:13:14.187401Z",
     "start_time": "2025-03-02T19:13:14.180920Z"
    }
   },
   "outputs": [],
   "source": [
    "def greedy_search(maze, start, end):\n",
    "    open_queue = PriorityQueue()\n",
    "    closed_set = set()\n",
    "    prev = {}\n",
    "\n",
    "    open_queue.put((h(start, end), start))\n",
    "    \n",
    "    while open_queue:  # Cleaner condition\n",
    "        _, x = open_queue.get()  \n",
    "\n",
    "        if x == end:\n",
    "            path = reconstruct_path(prev, x)\n",
    "            print_maze_with_path(maze, closed_set, path, start, end)\n",
    "            print(\"S Start\\nE End\\n# Opened node\\no Path\\nX Wall\\nspace Fresh node\\n--------------\")\n",
    "            print(f\"Nodes expanded: {len(closed_set)}\")\n",
    "            print(f\"Path length: {len(path) - 1}\")\n",
    "            return path\n",
    "\n",
    "        for y in get_neighbors(maze, x):\n",
    "            if y not in closed_set and y not in [node[1] for node in open_queue.queue]:\n",
    "                open_queue.put((h(y, end), y))  \n",
    "                prev[y] = x\n",
    "\n",
    "        closed_set.add(x)\n",
    "\n",
    "        '''\n",
    "        #add for animation\n",
    "        print_maze_with_path(maze, closed_set, [], start, end)\n",
    "        time.sleep(0.3)\n",
    "        clear_output(wait=True)\n",
    "        os.system(\"cls\")\n",
    "        '''\n",
    "\n",
    "    print(\"No path found.\")\n",
    "    return None"
   ]
  },
  {
   "cell_type": "markdown",
   "id": "7aa22cc965765b19",
   "metadata": {},
   "source": [
    "5. A*"
   ]
  },
  {
   "cell_type": "code",
   "execution_count": 6,
   "id": "ebf078398eee0fa",
   "metadata": {
    "ExecuteTime": {
     "end_time": "2025-03-02T19:13:14.770939Z",
     "start_time": "2025-03-02T19:13:14.763706Z"
    }
   },
   "outputs": [],
   "source": [
    "def a_star(maze, start, end):\n",
    "    open_queue = PriorityQueue()\n",
    "    latest_f = {} # Made due to duplicates in open_queue\n",
    "    dist = {start: 0}\n",
    "    prev = {}\n",
    "    closed_set = set()\n",
    "\n",
    "    open_queue.put((h(start, end), start))\n",
    "    latest_f[start] = h(start, end)\n",
    "\n",
    "    while open_queue:\n",
    "        f_x, x = open_queue.get()\n",
    "\n",
    "        if x in closed_set:\n",
    "            continue\n",
    "\n",
    "        if latest_f[x] != f_x: # We chose a duplicate\n",
    "            continue  \n",
    "\n",
    "        if x == end:\n",
    "            path = reconstruct_path(prev, x)\n",
    "            print_maze_with_path(maze, closed_set, path, start, end)\n",
    "            print(\"S Start\\nE End\\n# Opened node\\no Path\\nX Wall\\nspace Fresh node\\n--------------\")\n",
    "            print(f\"Nodes expanded: {len(closed_set)}\")\n",
    "            print(f\"Path length: {len(path) - 1}\")\n",
    "            return path\n",
    "\n",
    "        for y in get_neighbors(maze, x):\n",
    "            if y in closed_set:\n",
    "                continue\n",
    "\n",
    "            d_new = dist[x] + 1\n",
    "\n",
    "            if y not in latest_f or dist[y] > d_new:  \n",
    "                dist[y] = d_new\n",
    "                prev[y] = x\n",
    "                latest_f[y] = d_new + h(y, end)\n",
    "                open_queue.put((latest_f[y], y))  \n",
    "\n",
    "        closed_set.add(x)\n",
    "        \n",
    "        '''\n",
    "        #add for animation\n",
    "        print_maze_with_path(maze, closed_set, [], start, end)\n",
    "        time.sleep(0.3)\n",
    "        clear_output(wait=True)\n",
    "        os.system(\"cls\")\n",
    "        '''\n",
    "\n",
    "    print(\"No path found.\")\n",
    "    return None"
   ]
  },
  {
   "cell_type": "markdown",
   "id": "fdc6b320b72f114a",
   "metadata": {},
   "source": [
    "User Interface:"
   ]
  },
  {
   "cell_type": "code",
   "execution_count": 8,
   "id": "c7e0be9155baa116",
   "metadata": {},
   "outputs": [
    {
     "name": "stdin",
     "output_type": "stream",
     "text": [
      "Enter the maze file name:  maze.txt\n"
     ]
    },
    {
     "name": "stdout",
     "output_type": "stream",
     "text": [
      "\n",
      "Choose an algorithm:\n",
      "1. Random Search\n",
      "2. DFS\n",
      "3. BFS\n",
      "4. Greedy Search\n",
      "5. A*\n"
     ]
    },
    {
     "name": "stdin",
     "output_type": "stream",
     "text": [
      "\n",
      "Enter the number of the algorithm (1-5):  3\n"
     ]
    },
    {
     "name": "stdout",
     "output_type": "stream",
     "text": [
      "\n",
      "Running Width Search (BFS)...\n",
      "\n",
      "XXXXXXXXXXXXXXXXXXXXXXXXXXXXXXXXXXXXXXXXXXXXXXXXXXXXXXX\n",
      "X           ######################################X###X\n",
      "X  XX XXXX   X##XXXXX#XXXXX##X##XXXX###XXXX#X#X###X#X#X\n",
      "X X           ########X###X###X#######XooooooSX#X#X#X#X\n",
      "X   XX X  XXXXXX#XXXX#XoooXX##XXX##X#oooXX#XXX##X#XXX#X\n",
      "X       X    EooooooooooXoooooooooooooX#########X#####X\n",
      "XXXXXXXXXXXXXXXXXXXXXXXXXXXXXXXXXXXXXXXXXXXXXXXXXXXXXXX\n",
      "--------------\n",
      "S Start\n",
      "E End\n",
      "# Opened node\n",
      "o Path\n",
      "X Wall\n",
      "space Fresh node\n",
      "--------------\n",
      "Nodes expanded: 145\n",
      "Path length: 36\n"
     ]
    }
   ],
   "source": [
    "file_name = input(\"Enter the maze file name: \").strip()\n",
    "\n",
    "print(\"\\nChoose an algorithm:\")\n",
    "print(\"1. Random Search\")\n",
    "print(\"2. DFS\")\n",
    "print(\"3. BFS\")\n",
    "print(\"4. Greedy Search\")\n",
    "print(\"5. A*\")\n",
    "\n",
    "choice = input(\"\\nEnter the number of the algorithm (1-5): \").strip()\n",
    "\n",
    "maze, start, end = load_maze(file_name)\n",
    "\n",
    "if choice == \"1\":\n",
    "    print(\"\\nRunning Random Search...\\n\")\n",
    "    time.sleep(1)\n",
    "    path = random_search(maze, start, end)\n",
    "elif choice == \"2\":\n",
    "    print(\"\\nRunning Depth Search (DFS)...\\n\")\n",
    "    time.sleep(1)\n",
    "    path = dfs(maze, start, end)\n",
    "elif choice == \"3\":\n",
    "    print(\"\\nRunning Width Search (BFS)...\\n\")\n",
    "    time.sleep(1)\n",
    "    path = bfs(maze, start, end)\n",
    "elif choice == \"4\":\n",
    "    print(\"\\nRunning Greedy Search...\\n\")\n",
    "    time.sleep(1)\n",
    "    path = greedy_search(maze, start, end)\n",
    "elif choice == \"5\":\n",
    "    print(\"\\nRunning A* Search...\\n\")\n",
    "    time.sleep(1)\n",
    "    path = a_star(maze, start, end)\n",
    "else:\n",
    "    print(\"Invalid choice. Please enter a number between 1 and 5.\")"
   ]
  },
  {
   "cell_type": "code",
   "execution_count": null,
   "id": "46e981236473de08",
   "metadata": {},
   "outputs": [],
   "source": []
  }
 ],
 "metadata": {
  "kernelspec": {
   "display_name": "Python 3 (ipykernel)",
   "language": "python",
   "name": "python3"
  },
  "language_info": {
   "codemirror_mode": {
    "name": "ipython",
    "version": 3
   },
   "file_extension": ".py",
   "mimetype": "text/x-python",
   "name": "python",
   "nbconvert_exporter": "python",
   "pygments_lexer": "ipython3",
   "version": "3.12.2"
  }
 },
 "nbformat": 4,
 "nbformat_minor": 5
}
