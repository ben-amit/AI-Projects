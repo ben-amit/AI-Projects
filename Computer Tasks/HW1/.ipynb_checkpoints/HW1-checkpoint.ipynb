{
 "cells": [
  {
   "cell_type": "markdown",
   "id": "a5a58317e3046e48",
   "metadata": {},
   "source": [
    "# *Assignment 1. Systematic state space search*\n",
    "\n",
    "## *Submitted by Amit Ben Zaken*"
   ]
  },
  {
   "cell_type": "markdown",
   "id": "3bc185cccf465806",
   "metadata": {},
   "source": [
    "Firstly, we'll implement load_maze to load the inputs from file, and include other helper function for our algorithms."
   ]
  },
  {
   "cell_type": "code",
   "id": "initial_id",
   "metadata": {
    "ExecuteTime": {
     "end_time": "2025-03-02T19:13:10.799086Z",
     "start_time": "2025-03-02T19:13:10.786234Z"
    }
   },
   "source": [
    "import random\n",
    "import time\n",
    "from IPython.display import clear_output\n",
    "from collections import deque\n",
    "from queue import PriorityQueue\n",
    "import os\n",
    "\n",
    "\n",
    "def load_maze(filename):\n",
    "    with open(filename, \"r\") as file:\n",
    "        lines = [line.rstrip() for line in file.readlines()]\n",
    "    \n",
    "    maze = []\n",
    "    start = None\n",
    "    end = None\n",
    "\n",
    "    for i, line in enumerate(lines):\n",
    "        if line.startswith(\"start\"):\n",
    "            _, coords = line.split(\" \", 1)\n",
    "            start = tuple(map(int, coords.split(\",\")))\n",
    "        elif line.lower().startswith(\"end\"):\n",
    "            _, coords = line.split(\" \", 1)\n",
    "            end = tuple(map(int, coords.split(\",\")))\n",
    "        else:\n",
    "            row = []\n",
    "            for char in line:\n",
    "                if char == \" \":\n",
    "                    row.append(-1)\n",
    "                elif char == \"X\":\n",
    "                    row.append(0)\n",
    "                else:\n",
    "                    raise ValueError(\"Invalid character in maze\")\n",
    "            maze.append(row)\n",
    "    \n",
    "    start = (start[1], start[0])\n",
    "    end = (end[1], end[0])\n",
    "    return maze, start, end\n",
    "\n",
    "# Function to print the maze with explored nodes and final path\n",
    "def print_maze_with_path(maze, explored, path, start, end):\n",
    "    display = [[char for char in row] for row in convert_maze_to_chars(maze)]\n",
    "\n",
    "    for x, y in explored:\n",
    "        if (x, y) not in (start, end):\n",
    "            display[x][y] = \"#\"\n",
    "\n",
    "    for x, y in path:\n",
    "        if (x, y) not in (start, end):\n",
    "            display[x][y] = \"o\"\n",
    "\n",
    "    display[start[0]][start[1]] = \"S\"\n",
    "    display[end[0]][end[1]] = \"E\"\n",
    "\n",
    "    print(\"\\n\".join(\"\".join(row) for row in display))\n",
    "    print(\"--------------\")\n",
    "\n",
    "# Convert maze from numbers to characters\n",
    "def convert_maze_to_chars(maze):\n",
    "    char_maze = []\n",
    "    for row in maze:\n",
    "        char_maze.append([\"X\" if cell == 0 else \" \" for cell in row])\n",
    "    return char_maze\n",
    "\n",
    "# Function to reconstruct the path\n",
    "def reconstruct_path(prev, goal):\n",
    "    x = goal\n",
    "    path = []\n",
    "    while x in prev:\n",
    "        path.append(x)\n",
    "        x = prev[x]\n",
    "    path.append(x)\n",
    "    return path[::-1]\n",
    "\n",
    "# Get valid neighbors\n",
    "def get_neighbors(maze, position):\n",
    "    x, y = position\n",
    "    neighbors = []\n",
    "    directions = [(0, 1), (1, 0), (0, -1), (-1, 0)]\n",
    "\n",
    "    for dx, dy in directions:\n",
    "        nx, ny = x + dx, y + dy\n",
    "        if 0 <= nx < len(maze) and 0 <= ny < len(maze[0]) and maze[nx][ny] != 0:\n",
    "            neighbors.append((nx, ny))\n",
    "\n",
    "    return neighbors\n",
    "\n",
    "# We will use Manhattan distance heuristic \n",
    "def h(y, end):\n",
    "    return abs(y[0] - end[0]) + abs(y[1] - end[1]) "
   ],
   "outputs": [],
   "execution_count": 1
  },
  {
   "cell_type": "markdown",
   "id": "6382144547073432",
   "metadata": {},
   "source": [
    "1. Random search"
   ]
  },
  {
   "cell_type": "code",
   "id": "4b5cd640b21c777a",
   "metadata": {
    "ExecuteTime": {
     "end_time": "2025-03-02T19:13:12.467480Z",
     "start_time": "2025-03-02T19:13:12.461702Z"
    }
   },
   "source": [
    "def random_search(maze, start, end):\n",
    "    \n",
    "    if maze[start[0]][start[1]] == 0 or maze[end[0]][end[1]] == 0:\n",
    "        raise ValueError(\"Start and end positions must be valid\")\n",
    "    \n",
    "    open_set = {start}\n",
    "    closed_set = set()\n",
    "    prev = {}\n",
    "\n",
    "    while open_set:\n",
    "        x = random.choice(list(open_set))\n",
    "\n",
    "        if x == end:\n",
    "            path = reconstruct_path(prev, x)\n",
    "            print_maze_with_path(maze, closed_set, path, start, end)\n",
    "            print(\"S Start\\nE End\\n# Opened node\\no Path\\nX Wall\\nspace Fresh node\\n--------------\")\n",
    "            print(f\"Nodes expanded: {len(closed_set)}\")\n",
    "            print(f\"Path length: {len(path) - 1}\")\n",
    "            return path\n",
    "\n",
    "        for y in get_neighbors(maze, x):\n",
    "            if y not in open_set and y not in closed_set:\n",
    "                open_set.add(y)\n",
    "                prev[y] = x\n",
    "\n",
    "        open_set.remove(x)\n",
    "        closed_set.add(x)\n",
    "        \n",
    "        print_maze_with_path(maze, closed_set, [], start, end)\n",
    "        time.sleep(0.3)\n",
    "        clear_output(wait=True)\n",
    "        os.system(\"cls\")\n",
    "        \n",
    "    print(\"No path found.\")\n",
    "    return None"
   ],
   "outputs": [],
   "execution_count": 2
  },
  {
   "cell_type": "markdown",
   "id": "c24b06008dff83b4",
   "metadata": {},
   "source": [
    "2. DFS"
   ]
  },
  {
   "cell_type": "code",
   "id": "ebdc9eb767fe1fe",
   "metadata": {
    "ExecuteTime": {
     "end_time": "2025-03-02T19:13:13.014412Z",
     "start_time": "2025-03-02T19:13:13.006896Z"
    }
   },
   "source": [
    "def dfs(maze, start, end):\n",
    "    open_stack = [start]\n",
    "    closed_set = set()\n",
    "    prev = {}\n",
    "\n",
    "    while open_stack:\n",
    "        x = open_stack.pop()\n",
    "\n",
    "        if x == end:\n",
    "            path = reconstruct_path(prev, x)\n",
    "            print_maze_with_path(maze, closed_set, path, start, end)\n",
    "            print(\"S Start\\nE End\\n# Opened node\\no Path\\nX Wall\\nspace Fresh node\\n--------------\")\n",
    "            print(f\"Nodes expanded: {len(closed_set)}\")\n",
    "            print(f\"Path length: {len(path) - 1}\")\n",
    "            return path\n",
    "\n",
    "        for y in get_neighbors(maze, x):\n",
    "            if y not in closed_set and y not in open_stack:\n",
    "                open_stack.append(y)\n",
    "                prev[y] = x\n",
    "\n",
    "        closed_set.add(x)\n",
    "\n",
    "        print_maze_with_path(maze, closed_set, [], start, end)\n",
    "        time.sleep(0.3)\n",
    "        clear_output(wait=True)\n",
    "        os.system(\"cls\")\n",
    "\n",
    "    print(\"No path found.\")\n",
    "    return None"
   ],
   "outputs": [],
   "execution_count": 3
  },
  {
   "cell_type": "markdown",
   "id": "a7129b7d0bdc6ba4",
   "metadata": {},
   "source": [
    "3. BFS"
   ]
  },
  {
   "cell_type": "code",
   "id": "f382c6c884993c06",
   "metadata": {
    "ExecuteTime": {
     "end_time": "2025-03-02T19:13:13.531081Z",
     "start_time": "2025-03-02T19:13:13.526185Z"
    }
   },
   "source": [
    "def bfs(maze, start, end):\n",
    "    open_queue = deque([start])\n",
    "    closed_set = set()\n",
    "    prev = {}\n",
    "\n",
    "    while open_queue:\n",
    "        x = open_queue.popleft()\n",
    "\n",
    "        if x == end:\n",
    "            path = reconstruct_path(prev, x)\n",
    "            print_maze_with_path(maze, closed_set, path, start, end)\n",
    "            print(\"S Start\\nE End\\n# Opened node\\no Path\\nX Wall\\nspace Fresh node\\n--------------\")\n",
    "            print(f\"Nodes expanded: {len(closed_set)}\")\n",
    "            print(f\"Path length: {len(path) - 1}\")\n",
    "            return path\n",
    "\n",
    "\n",
    "        for y in get_neighbors(maze, x):\n",
    "            if y not in closed_set and y not in open_queue:\n",
    "                open_queue.append(y)\n",
    "                prev[y] = x\n",
    "        \n",
    "        print_maze_with_path(maze, closed_set, [], start, end)\n",
    "        time.sleep(0.3)\n",
    "        clear_output(wait=True)\n",
    "        os.system(\"cls\")\n",
    "        \n",
    "        closed_set.add(x)\n",
    "\n",
    "    print(\"No path found.\")\n",
    "    return None"
   ],
   "outputs": [],
   "execution_count": 4
  },
  {
   "cell_type": "markdown",
   "id": "162f1561651f8925",
   "metadata": {},
   "source": [
    "4. Greedy Search"
   ]
  },
  {
   "cell_type": "code",
   "id": "f2f7df6565221d4a",
   "metadata": {
    "ExecuteTime": {
     "end_time": "2025-03-02T19:13:14.187401Z",
     "start_time": "2025-03-02T19:13:14.180920Z"
    }
   },
   "source": [
    "def greedy_search(maze, start, end):\n",
    "    open_queue = PriorityQueue()\n",
    "    closed_set = set()\n",
    "    prev = {}\n",
    "\n",
    "    open_queue.put((h(start, end), start))\n",
    "    \n",
    "    while open_queue:  # Cleaner condition\n",
    "        _, x = open_queue.get()  \n",
    "\n",
    "        if x == end:\n",
    "            path = reconstruct_path(prev, x)\n",
    "            print_maze_with_path(maze, closed_set, path, start, end)\n",
    "            print(\"S Start\\nE End\\n# Opened node\\no Path\\nX Wall\\nspace Fresh node\\n--------------\")\n",
    "            print(f\"Nodes expanded: {len(closed_set)}\")\n",
    "            print(f\"Path length: {len(path) - 1}\")\n",
    "            return path\n",
    "\n",
    "        for y in get_neighbors(maze, x):\n",
    "            if y not in closed_set and y not in [node[1] for node in open_queue.queue]:\n",
    "                open_queue.put((h(y, end), y))  \n",
    "                prev[y] = x\n",
    "\n",
    "        closed_set.add(x)\n",
    "\n",
    "        print_maze_with_path(maze, closed_set, [], start, end)\n",
    "        time.sleep(0.3)\n",
    "        clear_output(wait=True)\n",
    "        os.system(\"cls\")\n",
    "\n",
    "    print(\"No path found.\")\n",
    "    return None"
   ],
   "outputs": [],
   "execution_count": 5
  },
  {
   "cell_type": "markdown",
   "id": "7aa22cc965765b19",
   "metadata": {},
   "source": [
    "5. A*"
   ]
  },
  {
   "cell_type": "code",
   "id": "ebf078398eee0fa",
   "metadata": {
    "ExecuteTime": {
     "end_time": "2025-03-02T19:13:14.770939Z",
     "start_time": "2025-03-02T19:13:14.763706Z"
    }
   },
   "source": [
    "def a_star(maze, start, end):\n",
    "    open_queue = PriorityQueue()\n",
    "    latest_f = {} # Made due to duplicates in open_queue\n",
    "    dist = {start: 0}\n",
    "    prev = {}\n",
    "    closed_set = set()\n",
    "\n",
    "    open_queue.put((h(start, end), start))\n",
    "    latest_f[start] = h(start, end)\n",
    "\n",
    "    while open_queue:\n",
    "        f_x, x = open_queue.get()\n",
    "\n",
    "        if x in closed_set:\n",
    "            continue\n",
    "\n",
    "        if latest_f[x] != f_x: # We chose a duplicate\n",
    "            continue  \n",
    "\n",
    "        if x == end:\n",
    "            path = reconstruct_path(prev, x)\n",
    "            print_maze_with_path(maze, closed_set, path, start, end)\n",
    "            print(\"S Start\\nE End\\n# Opened node\\no Path\\nX Wall\\nspace Fresh node\\n--------------\")\n",
    "            print(f\"Nodes expanded: {len(closed_set)}\")\n",
    "            print(f\"Path length: {len(path) - 1}\")\n",
    "            return path\n",
    "\n",
    "        for y in get_neighbors(maze, x):\n",
    "            if y in closed_set:\n",
    "                continue\n",
    "\n",
    "            d_new = dist[x] + 1\n",
    "\n",
    "            if y not in latest_f or dist[y] > d_new:  \n",
    "                dist[y] = d_new\n",
    "                prev[y] = x\n",
    "                latest_f[y] = d_new + h(y, end)\n",
    "                open_queue.put((latest_f[y], y))  \n",
    "\n",
    "        closed_set.add(x)\n",
    "        \n",
    "        print_maze_with_path(maze, closed_set, [], start, end)\n",
    "        time.sleep(0.3)\n",
    "        clear_output(wait=True)\n",
    "        os.system(\"cls\")\n",
    "\n",
    "    print(\"No path found.\")\n",
    "    return None"
   ],
   "outputs": [],
   "execution_count": 6
  },
  {
   "cell_type": "markdown",
   "id": "fdc6b320b72f114a",
   "metadata": {},
   "source": [
    "User Interface:"
   ]
  },
  {
   "cell_type": "code",
   "id": "c7e0be9155baa116",
   "metadata": {},
   "source": [
    "file_name = input(\"Enter the maze file name: \").strip()\n",
    "\n",
    "print(\"\\nChoose an algorithm:\")\n",
    "print(\"1. Random Search\")\n",
    "print(\"2. DFS\")\n",
    "print(\"3. BFS\")\n",
    "print(\"4. Greedy Search\")\n",
    "print(\"5. A*\")\n",
    "\n",
    "choice = input(\"\\nEnter the number of the algorithm (1-5): \").strip()\n",
    "\n",
    "maze, start, end = load_maze(file_name)\n",
    "\n",
    "if choice == \"1\":\n",
    "    print(\"\\nRunning Random Search...\\n\")\n",
    "    time.sleep(1)\n",
    "    path = random_search(maze, start, end)\n",
    "elif choice == \"2\":\n",
    "    print(\"\\nRunning Depth Search (DFS)...\\n\")\n",
    "    time.sleep(1)\n",
    "    path = dfs(maze, start, end)\n",
    "elif choice == \"3\":\n",
    "    print(\"\\nRunning Width Search (BFS)...\\n\")\n",
    "    time.sleep(1)\n",
    "    path = bfs(maze, start, end)\n",
    "elif choice == \"4\":\n",
    "    print(\"\\nRunning Greedy Search...\\n\")\n",
    "    time.sleep(1)\n",
    "    path = greedy_search(maze, start, end)\n",
    "elif choice == \"5\":\n",
    "    print(\"\\nRunning A* Search...\\n\")\n",
    "    time.sleep(1)\n",
    "    path = a_star(maze, start, end)\n",
    "else:\n",
    "    print(\"Invalid choice. Please enter a number between 1 and 5.\")"
   ],
   "execution_count": 7,
   "outputs": [
    {
     "ename": "KeyboardInterrupt",
     "evalue": "",
     "output_type": "error",
     "traceback": [
      "\u001B[1;31m---------------------------------------------------------------------------\u001B[0m",
      "\u001B[1;31mKeyboardInterrupt\u001B[0m                         Traceback (most recent call last)",
      "Cell \u001B[1;32mIn[7], line 33\u001B[0m\n\u001B[0;32m     31\u001B[0m     \u001B[38;5;28mprint\u001B[39m(\u001B[38;5;124m\"\u001B[39m\u001B[38;5;130;01m\\n\u001B[39;00m\u001B[38;5;124mRunning A* Search...\u001B[39m\u001B[38;5;130;01m\\n\u001B[39;00m\u001B[38;5;124m\"\u001B[39m)\n\u001B[0;32m     32\u001B[0m     time\u001B[38;5;241m.\u001B[39msleep(\u001B[38;5;241m1\u001B[39m)\n\u001B[1;32m---> 33\u001B[0m     path \u001B[38;5;241m=\u001B[39m \u001B[43ma_star\u001B[49m\u001B[43m(\u001B[49m\u001B[43mmaze\u001B[49m\u001B[43m,\u001B[49m\u001B[43m \u001B[49m\u001B[43mstart\u001B[49m\u001B[43m,\u001B[49m\u001B[43m \u001B[49m\u001B[43mend\u001B[49m\u001B[43m)\u001B[49m\n\u001B[0;32m     34\u001B[0m \u001B[38;5;28;01melse\u001B[39;00m:\n\u001B[0;32m     35\u001B[0m     \u001B[38;5;28mprint\u001B[39m(\u001B[38;5;124m\"\u001B[39m\u001B[38;5;124mInvalid choice. Please enter a number between 1 and 5.\u001B[39m\u001B[38;5;124m\"\u001B[39m)\n",
      "Cell \u001B[1;32mIn[6], line 43\u001B[0m, in \u001B[0;36ma_star\u001B[1;34m(maze, start, end)\u001B[0m\n\u001B[0;32m     40\u001B[0m closed_set\u001B[38;5;241m.\u001B[39madd(x)\n\u001B[0;32m     42\u001B[0m print_maze_with_path(maze, closed_set, [], start, end)\n\u001B[1;32m---> 43\u001B[0m \u001B[43mtime\u001B[49m\u001B[38;5;241;43m.\u001B[39;49m\u001B[43msleep\u001B[49m\u001B[43m(\u001B[49m\u001B[38;5;241;43m0.3\u001B[39;49m\u001B[43m)\u001B[49m\n\u001B[0;32m     44\u001B[0m clear_output(wait\u001B[38;5;241m=\u001B[39m\u001B[38;5;28;01mTrue\u001B[39;00m)\n\u001B[0;32m     45\u001B[0m os\u001B[38;5;241m.\u001B[39msystem(\u001B[38;5;124m\"\u001B[39m\u001B[38;5;124mcls\u001B[39m\u001B[38;5;124m\"\u001B[39m)\n",
      "\u001B[1;31mKeyboardInterrupt\u001B[0m: "
     ]
    }
   ]
  },
  {
   "metadata": {},
   "cell_type": "code",
   "outputs": [],
   "execution_count": null,
   "source": "",
   "id": "46e981236473de08"
  }
 ],
 "metadata": {
  "kernelspec": {
   "display_name": "Python 3 (ipykernel)",
   "language": "python",
   "name": "python3"
  },
  "language_info": {
   "codemirror_mode": {
    "name": "ipython",
    "version": 3
   },
   "file_extension": ".py",
   "mimetype": "text/x-python",
   "name": "python",
   "nbconvert_exporter": "python",
   "pygments_lexer": "ipython3",
   "version": "3.12.2"
  }
 },
 "nbformat": 4,
 "nbformat_minor": 5
}
