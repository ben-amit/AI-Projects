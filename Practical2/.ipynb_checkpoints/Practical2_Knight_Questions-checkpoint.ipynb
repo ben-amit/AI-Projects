{
 "cells": [
  {
   "cell_type": "markdown",
   "id": "5d1fc36b872f3677",
   "metadata": {},
   "source": [
    "BIE-ZUM, Practical 2: Knight Questions\n",
    "\n",
    "Submitted by Amit Ben Zaken\n"
   ]
  },
  {
   "cell_type": "markdown",
   "id": "e17e6c2434d44f6f",
   "metadata": {},
   "source": [
    "In this exercise we will solve 2 different knight traversal problems. The first (Problem 1) being the minimal path of a knight between two points of a chessboard, and the second (Problem 2) being the traversal of the knight throughout the whole board."
   ]
  },
  {
   "cell_type": "markdown",
   "id": "b1939f23662271e8",
   "metadata": {},
   "source": [
    "Problem 1:"
   ]
  },
  {
   "cell_type": "code",
   "execution_count": 32,
   "id": "b9fbed6bcf8015ab",
   "metadata": {
    "ExecuteTime": {
     "end_time": "2025-02-28T12:28:48.414726Z",
     "start_time": "2025-02-28T12:28:48.398700Z"
    }
   },
   "outputs": [
    {
     "name": "stdout",
     "output_type": "stream",
     "text": [
      "The minimal amount of moves from (0, 0) to (3, 4) is: 3\n"
     ]
    }
   ],
   "source": [
    "from collections import deque\n",
    "from IPython.display import clear_output\n",
    "import time\n",
    "\n",
    "def is_valid(x, y, n):\n",
    "    return 0 <= x < n and 0 <= y < n\n",
    "\n",
    "def min_knight_path(n, start, end):\n",
    "    # Edge case of invalid inputs\n",
    "    if not is_valid(start[0], start[1], n) or not is_valid(end[0], end[1], n):\n",
    "        return -1\n",
    "    \n",
    "    # Possible knight moves\n",
    "    directions = [(-2, -1), (-1, -2), (1, -2), (2, -1), (2, 1), (1, 2), (-1, 2), (-2, 1)]\n",
    "\n",
    "    queue = deque([(start[0], start[1], 0)])  # (x, y, counter)\n",
    "    visited = set()\n",
    "    visited.add(start)\n",
    "\n",
    "    while queue:\n",
    "        x, y, steps = queue.popleft()\n",
    "        \n",
    "        if (x, y) == end: # We reached the end\n",
    "            return steps\n",
    "        \n",
    "        for dx, dy in directions: # Explore all possible moves in directions list\n",
    "            nx = x + dx\n",
    "            ny = y + dy\n",
    "            if is_valid(nx, ny, n) and (nx, ny) not in visited:\n",
    "                visited.add((nx, ny))\n",
    "                queue.append((nx, ny, steps + 1))\n",
    "\n",
    "    # On a normal chessboard there will always be a solution and the next line never happens\n",
    "    return -1\n",
    "\n",
    "# Inputs for our solution (n, start and end can change to other inputs)\n",
    "n = 8\n",
    "start = (0,0)\n",
    "end = (3,4)\n",
    "print(f\"The minimal amount of moves from {start} to {end} is:\",\n",
    "      min_knight_path(n, start, end))"
   ]
  },
  {
   "cell_type": "markdown",
   "id": "86b05d048b83b79d",
   "metadata": {},
   "source": [
    "Problem 2:"
   ]
  },
  {
   "cell_type": "code",
   "execution_count": 31,
   "id": "eee772ccb4a62a46",
   "metadata": {
    "ExecuteTime": {
     "end_time": "2025-02-28T12:29:16.077350Z",
     "start_time": "2025-02-28T12:29:16.053311Z"
    }
   },
   "outputs": [
    {
     "name": "stdout",
     "output_type": "stream",
     "text": [
      " 6  1  X 15  X\n",
      " X 10  5  X  X\n",
      " 2  7  0 11 14\n",
      " X 12  9  4  X\n",
      " 8  3  X 13  X\n"
     ]
    },
    {
     "ename": "KeyboardInterrupt",
     "evalue": "",
     "output_type": "error",
     "traceback": [
      "\u001b[1;31m---------------------------------------------------------------------------\u001b[0m",
      "\u001b[1;31mKeyboardInterrupt\u001b[0m                         Traceback (most recent call last)",
      "Cell \u001b[1;32mIn[31], line 62\u001b[0m\n\u001b[0;32m     60\u001b[0m n \u001b[38;5;241m=\u001b[39m \u001b[38;5;241m5\u001b[39m\n\u001b[0;32m     61\u001b[0m start \u001b[38;5;241m=\u001b[39m (\u001b[38;5;241m2\u001b[39m,\u001b[38;5;241m2\u001b[39m)\n\u001b[1;32m---> 62\u001b[0m board \u001b[38;5;241m=\u001b[39m \u001b[43mknight_full_path\u001b[49m\u001b[43m(\u001b[49m\u001b[43mn\u001b[49m\u001b[43m,\u001b[49m\u001b[43m \u001b[49m\u001b[43mstart\u001b[49m\u001b[43m)\u001b[49m\n\u001b[0;32m     63\u001b[0m \u001b[38;5;28;01mif\u001b[39;00m board:\n\u001b[0;32m     64\u001b[0m     print_board_char(convert_board_to_chars(board))\n",
      "Cell \u001b[1;32mIn[31], line 11\u001b[0m, in \u001b[0;36mknight_full_path\u001b[1;34m(n, start)\u001b[0m\n\u001b[0;32m      8\u001b[0m sx, sy \u001b[38;5;241m=\u001b[39m start\n\u001b[0;32m      9\u001b[0m board[sx][sy] \u001b[38;5;241m=\u001b[39m \u001b[38;5;241m0\u001b[39m\n\u001b[1;32m---> 11\u001b[0m \u001b[38;5;28;01mif\u001b[39;00m \u001b[43mfill_board\u001b[49m\u001b[43m(\u001b[49m\u001b[43msx\u001b[49m\u001b[43m,\u001b[49m\u001b[43m \u001b[49m\u001b[43msy\u001b[49m\u001b[43m,\u001b[49m\u001b[43m \u001b[49m\u001b[43mboard\u001b[49m\u001b[43m,\u001b[49m\u001b[43m \u001b[49m\u001b[43mn\u001b[49m\u001b[43m,\u001b[49m\u001b[43m \u001b[49m\u001b[38;5;241;43m1\u001b[39;49m\u001b[43m)\u001b[49m:  \u001b[38;5;66;03m# Start with counter = 1\u001b[39;00m\n\u001b[0;32m     12\u001b[0m     \u001b[38;5;28;01mreturn\u001b[39;00m board\n\u001b[0;32m     13\u001b[0m \u001b[38;5;28;01melse\u001b[39;00m:\n",
      "Cell \u001b[1;32mIn[31], line 34\u001b[0m, in \u001b[0;36mfill_board\u001b[1;34m(x, y, board, n, counter)\u001b[0m\n\u001b[0;32m     31\u001b[0m \u001b[38;5;28;01mif\u001b[39;00m is_valid(nx, ny, n) \u001b[38;5;129;01mand\u001b[39;00m board[nx][ny] \u001b[38;5;241m==\u001b[39m \u001b[38;5;241m-\u001b[39m\u001b[38;5;241m1\u001b[39m:\n\u001b[0;32m     32\u001b[0m     board[nx][ny] \u001b[38;5;241m=\u001b[39m counter\n\u001b[1;32m---> 34\u001b[0m     \u001b[38;5;28;01mif\u001b[39;00m \u001b[43mfill_board\u001b[49m\u001b[43m(\u001b[49m\u001b[43mnx\u001b[49m\u001b[43m,\u001b[49m\u001b[43m \u001b[49m\u001b[43mny\u001b[49m\u001b[43m,\u001b[49m\u001b[43m \u001b[49m\u001b[43mboard\u001b[49m\u001b[43m,\u001b[49m\u001b[43m \u001b[49m\u001b[43mn\u001b[49m\u001b[43m,\u001b[49m\u001b[43m \u001b[49m\u001b[43mcounter\u001b[49m\u001b[43m \u001b[49m\u001b[38;5;241;43m+\u001b[39;49m\u001b[43m \u001b[49m\u001b[38;5;241;43m1\u001b[39;49m\u001b[43m)\u001b[49m:\n\u001b[0;32m     35\u001b[0m         \u001b[38;5;28;01mreturn\u001b[39;00m \u001b[38;5;28;01mTrue\u001b[39;00m\n\u001b[0;32m     37\u001b[0m     board[nx][ny] \u001b[38;5;241m=\u001b[39m \u001b[38;5;241m-\u001b[39m\u001b[38;5;241m1\u001b[39m \u001b[38;5;66;03m# Backtrack, mark as unvisited\u001b[39;00m\n",
      "Cell \u001b[1;32mIn[31], line 34\u001b[0m, in \u001b[0;36mfill_board\u001b[1;34m(x, y, board, n, counter)\u001b[0m\n\u001b[0;32m     31\u001b[0m \u001b[38;5;28;01mif\u001b[39;00m is_valid(nx, ny, n) \u001b[38;5;129;01mand\u001b[39;00m board[nx][ny] \u001b[38;5;241m==\u001b[39m \u001b[38;5;241m-\u001b[39m\u001b[38;5;241m1\u001b[39m:\n\u001b[0;32m     32\u001b[0m     board[nx][ny] \u001b[38;5;241m=\u001b[39m counter\n\u001b[1;32m---> 34\u001b[0m     \u001b[38;5;28;01mif\u001b[39;00m \u001b[43mfill_board\u001b[49m\u001b[43m(\u001b[49m\u001b[43mnx\u001b[49m\u001b[43m,\u001b[49m\u001b[43m \u001b[49m\u001b[43mny\u001b[49m\u001b[43m,\u001b[49m\u001b[43m \u001b[49m\u001b[43mboard\u001b[49m\u001b[43m,\u001b[49m\u001b[43m \u001b[49m\u001b[43mn\u001b[49m\u001b[43m,\u001b[49m\u001b[43m \u001b[49m\u001b[43mcounter\u001b[49m\u001b[43m \u001b[49m\u001b[38;5;241;43m+\u001b[39;49m\u001b[43m \u001b[49m\u001b[38;5;241;43m1\u001b[39;49m\u001b[43m)\u001b[49m:\n\u001b[0;32m     35\u001b[0m         \u001b[38;5;28;01mreturn\u001b[39;00m \u001b[38;5;28;01mTrue\u001b[39;00m\n\u001b[0;32m     37\u001b[0m     board[nx][ny] \u001b[38;5;241m=\u001b[39m \u001b[38;5;241m-\u001b[39m\u001b[38;5;241m1\u001b[39m \u001b[38;5;66;03m# Backtrack, mark as unvisited\u001b[39;00m\n",
      "    \u001b[1;31m[... skipping similar frames: fill_board at line 34 (12 times)]\u001b[0m\n",
      "Cell \u001b[1;32mIn[31], line 34\u001b[0m, in \u001b[0;36mfill_board\u001b[1;34m(x, y, board, n, counter)\u001b[0m\n\u001b[0;32m     31\u001b[0m \u001b[38;5;28;01mif\u001b[39;00m is_valid(nx, ny, n) \u001b[38;5;129;01mand\u001b[39;00m board[nx][ny] \u001b[38;5;241m==\u001b[39m \u001b[38;5;241m-\u001b[39m\u001b[38;5;241m1\u001b[39m:\n\u001b[0;32m     32\u001b[0m     board[nx][ny] \u001b[38;5;241m=\u001b[39m counter\n\u001b[1;32m---> 34\u001b[0m     \u001b[38;5;28;01mif\u001b[39;00m \u001b[43mfill_board\u001b[49m\u001b[43m(\u001b[49m\u001b[43mnx\u001b[49m\u001b[43m,\u001b[49m\u001b[43m \u001b[49m\u001b[43mny\u001b[49m\u001b[43m,\u001b[49m\u001b[43m \u001b[49m\u001b[43mboard\u001b[49m\u001b[43m,\u001b[49m\u001b[43m \u001b[49m\u001b[43mn\u001b[49m\u001b[43m,\u001b[49m\u001b[43m \u001b[49m\u001b[43mcounter\u001b[49m\u001b[43m \u001b[49m\u001b[38;5;241;43m+\u001b[39;49m\u001b[43m \u001b[49m\u001b[38;5;241;43m1\u001b[39;49m\u001b[43m)\u001b[49m:\n\u001b[0;32m     35\u001b[0m         \u001b[38;5;28;01mreturn\u001b[39;00m \u001b[38;5;28;01mTrue\u001b[39;00m\n\u001b[0;32m     37\u001b[0m     board[nx][ny] \u001b[38;5;241m=\u001b[39m \u001b[38;5;241m-\u001b[39m\u001b[38;5;241m1\u001b[39m \u001b[38;5;66;03m# Backtrack, mark as unvisited\u001b[39;00m\n",
      "Cell \u001b[1;32mIn[31], line 19\u001b[0m, in \u001b[0;36mfill_board\u001b[1;34m(x, y, board, n, counter)\u001b[0m\n\u001b[0;32m     16\u001b[0m \u001b[38;5;28;01mdef\u001b[39;00m\u001b[38;5;250m \u001b[39m\u001b[38;5;21mfill_board\u001b[39m(x, y, board, n, counter):\n\u001b[0;32m     18\u001b[0m     print_board_char(convert_board_to_chars(board))\n\u001b[1;32m---> 19\u001b[0m     \u001b[43mtime\u001b[49m\u001b[38;5;241;43m.\u001b[39;49m\u001b[43msleep\u001b[49m\u001b[43m(\u001b[49m\u001b[38;5;241;43m0.5\u001b[39;49m\u001b[43m)\u001b[49m\n\u001b[0;32m     20\u001b[0m     clear_output(wait\u001b[38;5;241m=\u001b[39m\u001b[38;5;28;01mTrue\u001b[39;00m)\n\u001b[0;32m     22\u001b[0m     \u001b[38;5;66;03m# Board is full\u001b[39;00m\n",
      "\u001b[1;31mKeyboardInterrupt\u001b[0m: "
     ]
    }
   ],
   "source": [
    "def knight_full_path(n, start):\n",
    "    board = [[-1 for _ in range(n)] for _ in range(n)]  # -1 means unvisited\n",
    "\n",
    "    # Edge case of invalid inputs\n",
    "    if not is_valid(start[0], start[1], n):\n",
    "        return -1\n",
    "\n",
    "    sx, sy = start\n",
    "    board[sx][sy] = 0\n",
    "\n",
    "    if fill_board(sx, sy, board, n, 1):  # Start with counter = 1\n",
    "        return board\n",
    "    else:\n",
    "        return None  # Shouldn't happen on normal chessboard\n",
    "\n",
    "def fill_board(x, y, board, n, counter):\n",
    "\n",
    "    print_board_char(convert_board_to_chars(board))\n",
    "    time.sleep(0.5)\n",
    "    clear_output(wait=True)\n",
    "    \n",
    "    # Board is full\n",
    "    if counter == n*n:\n",
    "        return True\n",
    "\n",
    "    directions = [(-2, -1), (-1, -2), (1, -2), (2, -1), (2, 1), (1, 2), (-1, 2), (-2, 1)]\n",
    "\n",
    "    for dx, dy in directions:\n",
    "        nx = x + dx\n",
    "        ny = y + dy\n",
    "        if is_valid(nx, ny, n) and board[nx][ny] == -1:\n",
    "            board[nx][ny] = counter\n",
    "\n",
    "            if fill_board(nx, ny, board, n, counter + 1):\n",
    "                return True\n",
    "\n",
    "            board[nx][ny] = -1 # Backtrack, mark as unvisited\n",
    "\n",
    "    # Shouldn't happen on normal chessboard\n",
    "    return False\n",
    "\n",
    "def print_board(board): #Helper function to print the board\n",
    "    for row in board:\n",
    "        print(\" \".join(f\"{cell:2d}\" for cell in row))\n",
    "\n",
    "# Convert board from numbers to characters\n",
    "def convert_board_to_chars(board):\n",
    "    char_board = []\n",
    "    for row in board:\n",
    "        char_board.append([\"X\" if cell == -1 else cell for cell in row])\n",
    "    return char_board\n",
    "\n",
    "def print_board_char(board):\n",
    "    for row in board:\n",
    "        print(\" \".join(f\"{cell:>2}\" for cell in row))\n",
    "    #print(\"--------------\")\n",
    "            \n",
    "# Inputs for our solution (n, start can change to other inputs)\n",
    "# n > 7 isn't recommended (large computation)\n",
    "n = 5\n",
    "start = (2,2)\n",
    "board = knight_full_path(n, start)\n",
    "if board:\n",
    "    print_board_char(convert_board_to_chars(board))\n",
    "else:\n",
    "    print(\"No solution\") "
   ]
  },
  {
   "cell_type": "code",
   "execution_count": null,
   "id": "48a5301d97b65567",
   "metadata": {},
   "outputs": [],
   "source": []
  }
 ],
 "metadata": {
  "kernelspec": {
   "display_name": "Python 3 (ipykernel)",
   "language": "python",
   "name": "python3"
  },
  "language_info": {
   "codemirror_mode": {
    "name": "ipython",
    "version": 3
   },
   "file_extension": ".py",
   "mimetype": "text/x-python",
   "name": "python",
   "nbconvert_exporter": "python",
   "pygments_lexer": "ipython3",
   "version": "3.12.2"
  }
 },
 "nbformat": 4,
 "nbformat_minor": 5
}
