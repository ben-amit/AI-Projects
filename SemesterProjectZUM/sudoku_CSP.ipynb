{
 "cells": [
  {
   "cell_type": "code",
   "id": "initial_id",
   "metadata": {
    "collapsed": true,
    "ExecuteTime": {
     "end_time": "2025-05-07T15:25:57.207923Z",
     "start_time": "2025-05-07T15:25:57.031349Z"
    }
   },
   "source": [
    "from constraint import Problem, AllDifferentConstraint\n",
    "\n",
    "def solve_sudoku(grid):\n",
    "    # 1) CSP variables X: one variable per cell, named (r,c)\n",
    "    cells = [(r, c) for r in range(9) for c in range(9)]\n",
    "    \n",
    "    # 2) Domains D: each cell can be 1–9\n",
    "    problem = Problem()\n",
    "    problem.addVariables(cells, range(1, 10))\n",
    "    \n",
    "    # 3) Constraints C:\n",
    "    # 3a) Row constraints: all cells in each row must be different\n",
    "    for r in range(9):\n",
    "        problem.addConstraint(AllDifferentConstraint(),\n",
    "                              [(r, c) for c in range(9)])\n",
    "    # 3b) Column constraints\n",
    "    for c in range(9):\n",
    "        problem.addConstraint(AllDifferentConstraint(),\n",
    "                              [(r, c) for r in range(9)])\n",
    "    # 3c) 3×3 block constraints\n",
    "    for br in range(3):\n",
    "        for bc in range(3):\n",
    "            block = [\n",
    "                (r, c)\n",
    "                for r in range(br*3, br*3 + 3)\n",
    "                for c in range(bc*3, bc*3 + 3)\n",
    "            ]\n",
    "            problem.addConstraint(AllDifferentConstraint(), block)\n",
    "    \n",
    "    # 3d) Givens: fix any already-filled cells\n",
    "    for r in range(9):\n",
    "        for c in range(9):\n",
    "            if grid[r][c] != 0:\n",
    "                # unary constraint X[r,c] == grid[r][c]\n",
    "                val = grid[r][c]\n",
    "                problem.addConstraint(lambda x, v=val: x == v, [(r, c)])\n",
    "    \n",
    "    # 4) Solve\n",
    "    solution = problem.getSolution()\n",
    "    if not solution:\n",
    "        print(\"No solution found.\")\n",
    "        return None\n",
    "    \n",
    "    # Reconstruct solved grid\n",
    "    solved = [[solution[(r, c)] for c in range(9)] for r in range(9)]\n",
    "    return solved\n",
    "\n",
    "if __name__ == \"__main__\":\n",
    "    # Example puzzle: 0 = empty\n",
    "    grid = [\n",
    "        [5, 3, 0, 0, 7, 0, 0, 0, 0],\n",
    "        [6, 0, 0, 1, 9, 5, 0, 0, 0],\n",
    "        [0, 9, 8, 0, 0, 0, 0, 6, 0],\n",
    "        [8, 0, 0, 0, 6, 0, 0, 0, 3],\n",
    "        [4, 0, 0, 8, 0, 3, 0, 0, 1],\n",
    "        [7, 0, 0, 0, 2, 0, 0, 0, 6],\n",
    "        [0, 6, 0, 0, 0, 0, 2, 8, 0],\n",
    "        [0, 0, 0, 4, 1, 9, 0, 0, 5],\n",
    "        [0, 0, 0, 0, 8, 0, 0, 7, 9],\n",
    "    ]\n",
    "    \n",
    "    solution = solve_sudoku(grid)\n",
    "    if solution:\n",
    "        for row in solution:\n",
    "            print(row)"
   ],
   "outputs": [
    {
     "ename": "ModuleNotFoundError",
     "evalue": "No module named 'constraint'",
     "output_type": "error",
     "traceback": [
      "\u001B[31m---------------------------------------------------------------------------\u001B[39m",
      "\u001B[31mModuleNotFoundError\u001B[39m                       Traceback (most recent call last)",
      "\u001B[36mCell\u001B[39m\u001B[36m \u001B[39m\u001B[32mIn[1]\u001B[39m\u001B[32m, line 1\u001B[39m\n\u001B[32m----> \u001B[39m\u001B[32m1\u001B[39m \u001B[38;5;28;01mfrom\u001B[39;00m\u001B[38;5;250m \u001B[39m\u001B[34;01mconstraint\u001B[39;00m\u001B[38;5;250m \u001B[39m\u001B[38;5;28;01mimport\u001B[39;00m Problem, AllDifferentConstraint\n\u001B[32m      3\u001B[39m \u001B[38;5;28;01mdef\u001B[39;00m\u001B[38;5;250m \u001B[39m\u001B[34msolve_sudoku\u001B[39m(grid):\n\u001B[32m      4\u001B[39m     \u001B[38;5;66;03m# 1) CSP variables X: one variable per cell, named (r,c)\u001B[39;00m\n\u001B[32m      5\u001B[39m     cells = [(r, c) \u001B[38;5;28;01mfor\u001B[39;00m r \u001B[38;5;129;01min\u001B[39;00m \u001B[38;5;28mrange\u001B[39m(\u001B[32m9\u001B[39m) \u001B[38;5;28;01mfor\u001B[39;00m c \u001B[38;5;129;01min\u001B[39;00m \u001B[38;5;28mrange\u001B[39m(\u001B[32m9\u001B[39m)]\n",
      "\u001B[31mModuleNotFoundError\u001B[39m: No module named 'constraint'"
     ]
    }
   ],
   "execution_count": 1
  },
  {
   "metadata": {},
   "cell_type": "code",
   "outputs": [],
   "execution_count": null,
   "source": "",
   "id": "7b2df57895735bf"
  }
 ],
 "metadata": {
  "kernelspec": {
   "display_name": "Python 3",
   "language": "python",
   "name": "python3"
  },
  "language_info": {
   "codemirror_mode": {
    "name": "ipython",
    "version": 2
   },
   "file_extension": ".py",
   "mimetype": "text/x-python",
   "name": "python",
   "nbconvert_exporter": "python",
   "pygments_lexer": "ipython2",
   "version": "2.7.6"
  }
 },
 "nbformat": 4,
 "nbformat_minor": 5
}
