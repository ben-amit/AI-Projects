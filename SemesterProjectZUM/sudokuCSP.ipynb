{
 "cells": [
  {
   "cell_type": "code",
   "execution_count": 46,
   "id": "initial_id",
   "metadata": {
    "ExecuteTime": {
     "end_time": "2025-05-07T16:26:31.715059Z",
     "start_time": "2025-05-07T16:26:31.679396Z"
    }
   },
   "outputs": [
    {
     "name": "stdout",
     "output_type": "stream",
     "text": [
      "Puzzle:\n",
      "5 3 _ _ 7 _ _ _ _\n",
      "6 _ _ 1 9 5 _ _ _\n",
      "_ 9 8 _ _ _ _ 6 _\n",
      "8 _ _ _ 6 _ _ _ 3\n",
      "4 _ _ 8 _ 3 _ _ 1\n",
      "7 _ _ _ 2 _ _ _ 6\n",
      "_ 6 _ _ _ _ 2 8 _\n",
      "_ _ _ 4 1 9 _ _ 5\n",
      "_ _ _ _ 8 _ _ 7 9\n",
      "\n",
      "Solution:\n",
      "5 3 4 6 7 8 9 1 2\n",
      "6 7 2 1 9 5 3 4 8\n",
      "1 9 8 3 4 2 5 6 7\n",
      "8 5 9 7 6 1 4 2 3\n",
      "4 2 6 8 5 3 7 9 1\n",
      "7 1 3 9 2 4 8 5 6\n",
      "9 6 1 5 3 7 2 8 4\n",
      "2 8 7 4 1 9 6 3 5\n",
      "3 4 5 2 8 6 1 7 9\n"
     ]
    }
   ],
   "source": [
    "from constraint import Problem, AllDifferentConstraint\n",
    "\n",
    "def print_board(board):\n",
    "    for row in board:\n",
    "        print(\" \".join(str(val) if val != 0 else \"_\" for val in row))\n",
    "\n",
    "def solve_sudoku_CSP(grid):\n",
    "    # Variables X\n",
    "    X = [(row, col) for row in range(9) for col in range(9)]\n",
    "    \n",
    "    # Domains D per variable - merging D from the lecture with the constraint that we must keep the cells in the input\n",
    "    D = {}\n",
    "    for (row, col) in X:\n",
    "        val = grid[row][col]\n",
    "        D[(row, col)] = [val] if val != 0 else list(range(1, 10))\n",
    "    \n",
    "    # Constraints C\n",
    "    C = []\n",
    "    \n",
    "    # rows\n",
    "    for row in range(9):\n",
    "        C.append((AllDifferentConstraint(), [(row, col) for col in range(9)]))\n",
    "    \n",
    "    # columns\n",
    "    for col in range(9):\n",
    "        C.append((AllDifferentConstraint(), [(row, col) for row in range(9)]))\n",
    "    \n",
    "    # 3×3 blocks at starts 0,3,6\n",
    "    for block_row in [0, 3, 6]:\n",
    "        for block_col in [0, 3, 6]:\n",
    "            block = [\n",
    "                (r, c)\n",
    "                for r in range(block_row, block_row + 3)\n",
    "                for c in range(block_col, block_col + 3)\n",
    "            ]\n",
    "            C.append((AllDifferentConstraint(), block))\n",
    "    \n",
    "    problem = Problem()\n",
    "\n",
    "    for var, dom in D.items():\n",
    "        problem.addVariable(var, dom)\n",
    "    \n",
    "    for cons, variables in C:\n",
    "        problem.addConstraint(cons, variables)\n",
    "    \n",
    "    sol = problem.getSolution()\n",
    "    if not sol:\n",
    "        return None\n",
    "    \n",
    "    # Return board\n",
    "    return [[sol[(r, c)] for c in range(9)] for r in range(9)]\n",
    "\n",
    "puzzle = [\n",
    "[5, 3, 0, 0, 7, 0, 0, 0, 0],\n",
    "[6, 0, 0, 1, 9, 5, 0, 0, 0],\n",
    "[0, 9, 8, 0, 0, 0, 0, 6, 0],\n",
    "[8, 0, 0, 0, 6, 0, 0, 0, 3],\n",
    "[4, 0, 0, 8, 0, 3, 0, 0, 1],\n",
    "[7, 0, 0, 0, 2, 0, 0, 0, 6],\n",
    "[0, 6, 0, 0, 0, 0, 2, 8, 0],\n",
    "[0, 0, 0, 4, 1, 9, 0, 0, 5],\n",
    "[0, 0, 0, 0, 8, 0, 0, 7, 9]]\n",
    "\n",
    "\n",
    "#puzzle = [[0]*9 for i in range(9)]\n",
    "\n",
    "print(\"Puzzle:\")\n",
    "print_board(puzzle)\n",
    "solution = solve_sudoku_CSP(puzzle)\n",
    "if solution:\n",
    "    print(\"\\nSolution:\")\n",
    "    print_board(solution)\n",
    "else:\n",
    "    print(\"No solution found.\")\n"
   ]
  },
  {
   "cell_type": "code",
   "execution_count": null,
   "id": "a758d781e05b98e2",
   "metadata": {},
   "outputs": [],
   "source": []
  },
  {
   "cell_type": "code",
   "execution_count": null,
   "id": "f10953ba-a785-420a-a517-cd0eab51484f",
   "metadata": {},
   "outputs": [],
   "source": []
  }
 ],
 "metadata": {
  "kernelspec": {
   "display_name": "Python 3 (ipykernel)",
   "language": "python",
   "name": "python3"
  },
  "language_info": {
   "codemirror_mode": {
    "name": "ipython",
    "version": 3
   },
   "file_extension": ".py",
   "mimetype": "text/x-python",
   "name": "python",
   "nbconvert_exporter": "python",
   "pygments_lexer": "ipython3",
   "version": "3.12.2"
  }
 },
 "nbformat": 4,
 "nbformat_minor": 5
}
