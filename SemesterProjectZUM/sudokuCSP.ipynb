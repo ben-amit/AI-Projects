{
 "cells": [
  {
   "cell_type": "code",
   "execution_count": 3,
   "id": "initial_id",
   "metadata": {
    "ExecuteTime": {
     "end_time": "2025-05-07T16:23:02.652903Z",
     "start_time": "2025-05-07T16:23:02.424061Z"
    }
   },
   "outputs": [
    {
     "name": "stdout",
     "output_type": "stream",
     "text": [
      "[5, 3, 4, 6, 7, 8, 9, 1, 2]\n",
      "[6, 7, 2, 1, 9, 5, 3, 4, 8]\n",
      "[1, 9, 8, 3, 4, 2, 5, 6, 7]\n",
      "[8, 5, 9, 7, 6, 1, 4, 2, 3]\n",
      "[4, 2, 6, 8, 5, 3, 7, 9, 1]\n",
      "[7, 1, 3, 9, 2, 4, 8, 5, 6]\n",
      "[9, 6, 1, 5, 3, 7, 2, 8, 4]\n",
      "[2, 8, 7, 4, 1, 9, 6, 3, 5]\n",
      "[3, 4, 5, 2, 8, 6, 1, 7, 9]\n"
     ]
    }
   ],
   "source": [
    "from constraint import Problem, AllDifferentConstraint\n",
    "\n",
    "def solve_sudoku(grid):\n",
    "    cells = [(r, c) for r in range(9) for c in range(9)]\n",
    "    \n",
    "    problem = Problem()\n",
    "    problem.addVariables(cells, range(1, 10))\n",
    "    \n",
    "    for r in range(9):\n",
    "        problem.addConstraint(AllDifferentConstraint(),\n",
    "                              [(r, c) for c in range(9)])\n",
    "\n",
    "    for c in range(9):\n",
    "        problem.addConstraint(AllDifferentConstraint(),\n",
    "                              [(r, c) for r in range(9)])\n",
    "\n",
    "        for br in range(3):\n",
    "            for bc in range(3):\n",
    "                block = [\n",
    "                    (r, c)\n",
    "                    for r in range(br*3, br*3 + 3)\n",
    "                    for c in range(bc*3, bc*3 + 3)\n",
    "                ]\n",
    "                problem.addConstraint(AllDifferentConstraint(), block)\n",
    "    \n",
    "    for r in range(9):\n",
    "        for c in range(9):\n",
    "            if grid[r][c] != 0:\n",
    "                # unary constraint X[r,c] == grid[r][c]\n",
    "                val = grid[r][c]\n",
    "                problem.addConstraint(lambda x, v=val: x == v, [(r, c)])\n",
    "    \n",
    "    solution = problem.getSolution()\n",
    "    if not solution:\n",
    "        print(\"No solution found.\")\n",
    "        return None\n",
    "    \n",
    "    solved = [[solution[(r, c)] for c in range(9)] for r in range(9)]\n",
    "    return solved\n",
    "\n",
    "if __name__ == \"__main__\":\n",
    "\n",
    "    grid = [\n",
    "        [5, 3, 0, 0, 7, 0, 0, 0, 0],\n",
    "        [6, 0, 0, 1, 9, 5, 0, 0, 0],\n",
    "        [0, 9, 8, 0, 0, 0, 0, 6, 0],\n",
    "        [8, 0, 0, 0, 6, 0, 0, 0, 3],\n",
    "        [4, 0, 0, 8, 0, 3, 0, 0, 1],\n",
    "        [7, 0, 0, 0, 2, 0, 0, 0, 6],\n",
    "        [0, 6, 0, 0, 0, 0, 2, 8, 0],\n",
    "        [0, 0, 0, 4, 1, 9, 0, 0, 5],\n",
    "        [0, 0, 0, 0, 8, 0, 0, 7, 9],\n",
    "    ]\n",
    "    \n",
    "    solution = solve_sudoku(grid)\n",
    "    if solution:\n",
    "        for row in solution:\n",
    "            print(row)\n"
   ]
  },
  {
   "cell_type": "code",
   "execution_count": null,
   "id": "a758d781e05b98e2",
   "metadata": {},
   "outputs": [],
   "source": []
  }
 ],
 "metadata": {
  "kernelspec": {
   "display_name": "Python 3 (ipykernel)",
   "language": "python",
   "name": "python3"
  },
  "language_info": {
   "codemirror_mode": {
    "name": "ipython",
    "version": 3
   },
   "file_extension": ".py",
   "mimetype": "text/x-python",
   "name": "python",
   "nbconvert_exporter": "python",
   "pygments_lexer": "ipython3",
   "version": "3.12.2"
  }
 },
 "nbformat": 4,
 "nbformat_minor": 5
}
