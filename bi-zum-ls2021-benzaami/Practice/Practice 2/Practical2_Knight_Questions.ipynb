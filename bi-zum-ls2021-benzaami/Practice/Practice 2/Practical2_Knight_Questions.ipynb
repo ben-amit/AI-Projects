{
 "cells": [
  {
   "metadata": {},
   "cell_type": "markdown",
   "source": [
    "BIE-ZUM, Practical 2: Knight Questions\n",
    "\n",
    "Submitted by Amit Ben Zaken\n"
   ],
   "id": "5d1fc36b872f3677"
  },
  {
   "metadata": {},
   "cell_type": "markdown",
   "source": "In this exercise we will solve 2 different knight traversal problems. The first (Problem 1) being the minimal path of a knight between two points of a chessboard, and the second (Problem 2) being the traversal of the knight throughout the whole board.",
   "id": "e17e6c2434d44f6f"
  },
  {
   "metadata": {},
   "cell_type": "markdown",
   "source": "Problem 1:",
   "id": "b1939f23662271e8"
  },
  {
   "metadata": {
    "ExecuteTime": {
     "end_time": "2025-02-28T12:28:48.414726Z",
     "start_time": "2025-02-28T12:28:48.398700Z"
    }
   },
   "cell_type": "code",
   "source": [
    "from collections import deque\n",
    "\n",
    "def is_valid(x, y, n):\n",
    "    return 0 <= x < n and 0 <= y < n\n",
    "\n",
    "def min_knight_path(n, start, end):\n",
    "    # Edge case of invalid inputs\n",
    "    if not is_valid(start[0], start[1], n) or not is_valid(end[0], end[1], n):\n",
    "        return -1\n",
    "    \n",
    "    # Possible knight moves\n",
    "    directions = [(-2, -1), (-1, -2), (1, -2), (2, -1), (2, 1), (1, 2), (-1, 2), (-2, 1)]\n",
    "\n",
    "    queue = deque([(start[0], start[1], 0)])  # (x, y, counter)\n",
    "    visited = set()\n",
    "    visited.add(start)\n",
    "\n",
    "    while queue:\n",
    "        x, y, steps = queue.popleft()\n",
    "        \n",
    "        if (x, y) == end: # We reached the end\n",
    "            return steps\n",
    "        \n",
    "        for dx, dy in directions: # Explore all possible moves in directions list\n",
    "            nx = x + dx\n",
    "            ny = y + dy\n",
    "            if is_valid(nx, ny, n) and (nx, ny) not in visited:\n",
    "                visited.add((nx, ny))\n",
    "                queue.append((nx, ny, steps + 1))\n",
    "\n",
    "    # On a normal chessboard there will always be a solution and the next line never happens\n",
    "    return -1\n",
    "\n",
    "# Inputs for our solution (n, start and end can change to other inputs)\n",
    "n = 8\n",
    "start = (0,0)\n",
    "end = (7,7)\n",
    "print(f\"The minimal amount of moves from {start} to {end} is:\",\n",
    "      min_knight_path(n, start, end))"
   ],
   "id": "b9fbed6bcf8015ab",
   "outputs": [
    {
     "name": "stdout",
     "output_type": "stream",
     "text": [
      "The minimal amount of moves from (0, 0) to (7, 7) is: 6\n"
     ]
    }
   ],
   "execution_count": 69
  },
  {
   "metadata": {},
   "cell_type": "markdown",
   "source": "Problem 2:",
   "id": "86b05d048b83b79d"
  },
  {
   "metadata": {
    "ExecuteTime": {
     "end_time": "2025-02-28T12:29:16.077350Z",
     "start_time": "2025-02-28T12:29:16.053311Z"
    }
   },
   "cell_type": "code",
   "source": [
    "def knight_full_path(n, start):\n",
    "    board = [[-1 for _ in range(n)] for _ in range(n)]  # -1 means unvisited\n",
    "\n",
    "    # Edge case of invalid inputs\n",
    "    if not is_valid(start[0], start[1], n):\n",
    "        return -1\n",
    "\n",
    "    sx, sy = start\n",
    "    board[sx][sy] = 0\n",
    "\n",
    "    if fill_board(sx, sy, board, n, 1):  # Start with counter = 1\n",
    "        return board\n",
    "    else:\n",
    "        return None  # Shouldn't happen on normal chessboard\n",
    "\n",
    "def fill_board(x, y, board, n, counter):\n",
    "\n",
    "    # Board is full\n",
    "    if counter == n*n:\n",
    "        return True\n",
    "\n",
    "    directions = [(-2, -1), (-1, -2), (1, -2), (2, -1), (2, 1), (1, 2), (-1, 2), (-2, 1)]\n",
    "\n",
    "    for dx, dy in directions:\n",
    "        nx = x + dx\n",
    "        ny = y + dy\n",
    "        if is_valid(nx, ny, n) and board[nx][ny] == -1:\n",
    "            board[nx][ny] = counter\n",
    "\n",
    "            if fill_board(nx, ny, board, n, counter + 1):\n",
    "                return True\n",
    "\n",
    "            board[nx][ny] = -1 # Backtrack, mark as unvisited\n",
    "\n",
    "    # Shouldn't happen on normal chessboard\n",
    "    return False\n",
    "\n",
    "def print_board(board): #Helper function to print the board\n",
    "    for row in board:\n",
    "        print(\" \".join(f\"{cell:2d}\" for cell in row))\n",
    "            \n",
    "# Inputs for our solution (n, start can change to other inputs)\n",
    "# n > 7 isn't recommended (large computation)\n",
    "n = 5\n",
    "start = (2,2)\n",
    "board = knight_full_path(n, start)\n",
    "if board:\n",
    "    print_board(board)\n",
    "else:\n",
    "    print(\"No solution\") "
   ],
   "id": "eee772ccb4a62a46",
   "outputs": [
    {
     "name": "stdout",
     "output_type": "stream",
     "text": [
      "18  1  6 11 20\n",
      " 7 12 19 16  5\n",
      " 2 17  0 21 10\n",
      "13  8 23  4 15\n",
      "24  3 14  9 22\n"
     ]
    }
   ],
   "execution_count": 70
  },
  {
   "metadata": {},
   "cell_type": "code",
   "outputs": [],
   "execution_count": null,
   "source": "",
   "id": "48a5301d97b65567"
  }
 ],
 "metadata": {
  "kernelspec": {
   "display_name": "Python 3",
   "language": "python",
   "name": "python3"
  },
  "language_info": {
   "codemirror_mode": {
    "name": "ipython",
    "version": 2
   },
   "file_extension": ".py",
   "mimetype": "text/x-python",
   "name": "python",
   "nbconvert_exporter": "python",
   "pygments_lexer": "ipython2",
   "version": "2.7.6"
  }
 },
 "nbformat": 4,
 "nbformat_minor": 5
}
